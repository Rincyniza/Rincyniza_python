{
  "nbformat": 4,
  "nbformat_minor": 0,
  "metadata": {
    "colab": {
      "provenance": [],
      "authorship_tag": "ABX9TyPRbw7o+DbSsAIKvdoHtGqJ",
      "include_colab_link": true
    },
    "kernelspec": {
      "name": "python3",
      "display_name": "Python 3"
    },
    "language_info": {
      "name": "python"
    }
  },
  "cells": [
    {
      "cell_type": "markdown",
      "metadata": {
        "id": "view-in-github",
        "colab_type": "text"
      },
      "source": [
        "<a href=\"https://colab.research.google.com/github/Rincyniza/Rincyniza_python/blob/main/Practiceproblem_day_5.ipynb\" target=\"_parent\"><img src=\"https://colab.research.google.com/assets/colab-badge.svg\" alt=\"Open In Colab\"/></a>"
      ]
    },
    {
      "cell_type": "code",
      "execution_count": null,
      "metadata": {
        "colab": {
          "base_uri": "https://localhost:8080/"
        },
        "id": "KbH3iztw02zO",
        "outputId": "d4f4a7fa-fd66-4f29-84c6-f0aa827201ce"
      },
      "outputs": [
        {
          "output_type": "stream",
          "name": "stdout",
          "text": [
            "Enter first number 7\n",
            "Enter second number 8\n",
            "Enter third number 4\n",
            "The middle value is 7\n"
          ]
        }
      ],
      "source": [
        "#1.Write a function that returns the middle value among three integers.Write a code to test this function with different inputs.\n",
        "\n",
        "def middle_value(p,q,r):\n",
        "  if p<=q<=r or r<=q<=p:\n",
        "    return q\n",
        "  elif q<=p<=r or r<=p<=q:\n",
        "    return p\n",
        "  else:\n",
        "    return r\n",
        "\n",
        "num1=int(input(\"Enter first number \"))\n",
        "num2=int(input(\"Enter second number \"))\n",
        "num3=int(input(\"Enter third number \"))\n",
        "print(\"The middle value is\",middle_value (num1,num2,num3))"
      ]
    },
    {
      "cell_type": "code",
      "source": [
        "#2.Build a calculator in python using functions\n",
        "\n",
        "def add(a,b):\n",
        "  return a + b\n",
        "\n",
        "def sub(a,b):\n",
        "  return a - b\n",
        "\n",
        "def mul(a,b):\n",
        "  return a * b\n",
        "\n",
        "def div(a,b):\n",
        "  return a/b\n",
        "\n",
        "print(\"Select operation\")\n",
        "print(\"1.Add\")\n",
        "print(\"2.Subtraction\")\n",
        "print(\"3.Multiplication\")\n",
        "print(\"4.Division\")\n",
        "\n",
        "while True:\n",
        "  choice=(input(\"Enter choice 1/2/3/4:\"))\n",
        "  if choice in ('1','2','3','4'):\n",
        "     try:\n",
        "        x=int(input(\"Enter first number\"))\n",
        "        y=int(input(\"Enter second number\"))\n",
        "     except Value_error:\n",
        "        print(\"Invalid input. Please enter a number\")\n",
        "        continue\n",
        "     if choice=='1':\n",
        "        print(f\"{x} + {y} = \",add(x,y))\n",
        "\n",
        "     elif choice=='2':\n",
        "        print(f\"{x} - {y} = \",sub(x,y))\n",
        "\n",
        "     elif choice=='3':\n",
        "        print(f\"{x} * {y} = \",mul(x,y))\n",
        "\n",
        "     elif choice=='4':\n",
        "        print(f\"{x} / {y} = \",div(x,y))\n",
        "\n",
        "     next_calculation=input(\"You want next calculation,yes/no:\")\n",
        "     if next_calculation == \"No\":\n",
        "       break\n",
        "     else:\n",
        "       print(\"valid input\")"
      ],
      "metadata": {
        "colab": {
          "base_uri": "https://localhost:8080/"
        },
        "id": "68N0vw2H1P-z",
        "outputId": "3194a519-eefd-4967-8435-a42c99d54b18"
      },
      "execution_count": null,
      "outputs": [
        {
          "name": "stdout",
          "output_type": "stream",
          "text": [
            "Select operation\n",
            "1.Add\n",
            "2.Subtraction\n",
            "3.Multiplication\n",
            "4.Division\n",
            "Enter choice 1/2/3/4:1\n",
            "Enter first number6\n",
            "Enter second number7\n",
            "6 + 7 =  13\n",
            "You want next calculation,yes/no:Yes\n",
            "valid input\n",
            "Enter choice 1/2/3/4:2\n",
            "Enter first number8\n",
            "Enter second number45\n",
            "8 - 45 =  -37\n",
            "You want next calculation,yes/no:Yes\n",
            "valid input\n",
            "Enter choice 1/2/3/4:3\n",
            "Enter first number7\n",
            "Enter second number9\n",
            "7 * 9 =  63\n",
            "You want next calculation,yes/no:No\n"
          ]
        }
      ]
    },
    {
      "cell_type": "code",
      "source": [
        "#3.Write a function that takes the length of the two shorter sides of a right triangle as its parameters.Return the hypotenuse of the triangle,computed using pythagorean theorem,as the functions result.\n",
        "from math import sqrt\n",
        "def hypotenuse (m,n):\n",
        "  hyp=sqrt(m**2 + n**2)\n",
        "  return hyp\n",
        "\n",
        "m = float(input(\"Enter the first shorter side of triangle :\"))\n",
        "n = float(input(\"Enter second shorter side of triangle:\"))\n",
        "print(\"The hypotenuse of the triangle is:\",hypotenuse(m,n))"
      ],
      "metadata": {
        "colab": {
          "base_uri": "https://localhost:8080/"
        },
        "id": "BvGhRNjC11oV",
        "outputId": "e4fcda25-47df-404b-80cd-afac16a452c5"
      },
      "execution_count": null,
      "outputs": [
        {
          "output_type": "stream",
          "name": "stdout",
          "text": [
            "Enter the first shorter side of triangle :5\n",
            "Enter second shorter side of triangle:9\n",
            "The hypotenuse of the triangle is: 10.295630140987\n"
          ]
        }
      ]
    },
    {
      "cell_type": "code",
      "source": [
        "#4.The Rectangle problem\n",
        "#Write a rectangle class in python language allowing you to build a rectangle with length and width attributes.\n",
        "#Create a perimeter() method to calculate the perimeter of the rectangle and a Area() method to calculate the area of the rectangle.\n",
        "#Create a method display that display the length,width,perimeter and area of an object created using an instantiation on rectangle class\n",
        "\n",
        "class Rectangle:\n",
        "  def __init__(self,length,breadth):\n",
        "     self.length=length\n",
        "     self.breadth=breadth\n",
        "  def area(self):\n",
        "     return self.length *self.breadth\n",
        "  def perimeter (self):\n",
        "     return 2*(self.length *self.breadth)\n",
        "\n",
        "def display():\n",
        "   print(\"The length of rectangle is:\",S1.length)\n",
        "   print(\"The breadth of the rectangle is:\",S1.breadth)\n",
        "   print(\"The area of the rectangle is:\",S1.area())\n",
        "   print(\"The perimeter of the rectangle is:\",S1.perimeter())\n",
        "\n",
        "Length=float(input(\"Enter the length of rectangle:\"))\n",
        "Breadth =float(input(\"Enter the breadth of rectangle:\"))\n",
        "S1=Rectangle(Length,Breadth)\n",
        "display()"
      ],
      "metadata": {
        "colab": {
          "base_uri": "https://localhost:8080/"
        },
        "id": "1hL0QlF51-JK",
        "outputId": "806036f6-15ac-47f4-f808-8b410bc00097"
      },
      "execution_count": null,
      "outputs": [
        {
          "output_type": "stream",
          "name": "stdout",
          "text": [
            "Enter the length of rectangle:56\n",
            "Enter the breadth of rectangle:23\n",
            "The length of rectangle is: 56.0\n",
            "The breadth of the rectangle is: 23.0\n",
            "The area of the rectangle is: 1288.0\n",
            "The perimeter of the rectangle is: 2576.0\n"
          ]
        }
      ]
    },
    {
      "cell_type": "code",
      "source": [
        "\n",
        "#5.Bank Account problem\n",
        "#create a python class BankAccount which represents a bank account ,having as attributes:account number,name,balance\n",
        "#create a constructor with parameters account number,name,balance\n",
        "#create a deposit method which manages the deposit actions\n",
        "#create a withdrawal method which manages withdrawal actions\n",
        "#create a bank fees method to apply the bank fees with a percentage of 5%of to the balance account\n",
        "#create a display method  to display account details\n",
        "class Bank_account:\n",
        "\n",
        "  def __init__(self,acc_number,name,balance):\n",
        "     self.balance=0\n",
        "     self.acc_number=acc_number\n",
        "     self.name=name\n",
        "     print(\"Hello!!! Welcome to the Deposit and Withdrawal machine\")\n",
        "\n",
        "  def deposit(self):\n",
        "     amount=float(input(\"Enter the amount to be deposited:\"))\n",
        "     self.balance+=amount\n",
        "     print(\"\\n Amount deposited:\",amount)\n",
        "\n",
        "  def withdrawal(self):\n",
        "     amount=float(input(\"Enter the amount to be withdrawn:\"))\n",
        "     if self.balance>= amount:\n",
        "        self.balance-=amount\n",
        "        print(\"\\n You withdrew\",amount)\n",
        "     else:\n",
        "        print(\"\\n Insufficient balance\")\n",
        "\n",
        "  def bank_fees(self):\n",
        "     Bank_fees=0\n",
        "     Bank_fees+=self.balance * 0.05\n",
        "     print(\"The bank fee is:\",Bank_fees)\n",
        "\n",
        "  def display(self):\n",
        "     print(\"\\nAccount Number:\",acc_number)\n",
        "     print(\"Account holder name:\",name)\n",
        "     print(\"Net available balance is:\",self.balance)\n",
        "\n",
        "acc_number=int(input(\"Enter the account number:\"))\n",
        "name=str(input(\"Enter the account holder name:\"))\n",
        "balance=0\n",
        "\n",
        "s=Bank_account(acc_number,name,balance)\n",
        "s.deposit()\n",
        "s.withdrawal()\n",
        "s.bank_fees()\n",
        "s.display()"
      ],
      "metadata": {
        "colab": {
          "base_uri": "https://localhost:8080/"
        },
        "id": "wQpljn3y2P7s",
        "outputId": "5cdf4afb-2c7a-43ee-e22e-c609e5eacbf2"
      },
      "execution_count": null,
      "outputs": [
        {
          "output_type": "stream",
          "name": "stdout",
          "text": [
            "Enter the account number:876234598\n",
            "Enter the account holder name:Rincy\n",
            "Hello!!! Welcome to the Deposit and Withdrawal machine\n",
            "Enter the amount to be deposited:16000\n",
            "\n",
            " Amount deposited: 16000.0\n",
            "Enter the amount to be withdrawn:6000\n",
            "\n",
            " You withdrew 6000.0\n",
            "The bank fee is: 500.0\n",
            "\n",
            "Account Number: 876234598\n",
            "Account holder name: Rincy\n",
            "Net available balance is: 10000.0\n"
          ]
        }
      ]
    },
    {
      "cell_type": "markdown",
      "source": [
        "# New Section"
      ],
      "metadata": {
        "id": "WFF94Eli2v15"
      }
    }
  ]
}