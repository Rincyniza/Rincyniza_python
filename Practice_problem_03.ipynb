{
  "nbformat": 4,
  "nbformat_minor": 0,
  "metadata": {
    "colab": {
      "provenance": [],
      "gpuType": "T4",
      "authorship_tag": "ABX9TyOUo5quOZSo6adJII2OQNJx",
      "include_colab_link": true
    },
    "kernelspec": {
      "name": "python3",
      "display_name": "Python 3"
    },
    "language_info": {
      "name": "python"
    },
    "accelerator": "GPU"
  },
  "cells": [
    {
      "cell_type": "markdown",
      "metadata": {
        "id": "view-in-github",
        "colab_type": "text"
      },
      "source": [
        "<a href=\"https://colab.research.google.com/github/Rincyniza/Rincyniza_python/blob/main/Practice_problem_03.ipynb\" target=\"_parent\"><img src=\"https://colab.research.google.com/assets/colab-badge.svg\" alt=\"Open In Colab\"/></a>"
      ]
    },
    {
      "cell_type": "code",
      "execution_count": null,
      "metadata": {
        "id": "87wl2qkSSCc2"
      },
      "outputs": [],
      "source": []
    },
    {
      "cell_type": "markdown",
      "source": [
        "Practice problem day3"
      ],
      "metadata": {
        "id": "z7K9LZvbSH54"
      }
    },
    {
      "cell_type": "code",
      "source": [
        "#Given the participants score sheet for your university sports day,you are required to find the runner-up score.you are given scores.store them in a list and find the score of runner-up(create an array of scores and print the runner-up score).\n",
        "\n",
        "Score={20,25,35,40,42}\n",
        "ScoreList1=list(Score)\n",
        "Max=max(ScoreList1)\n",
        "ScoreList1.remove(Max)\n",
        "runnerup=max(ScoreList1)\n",
        "print(\"The runner-up score is \",runnerup)"
      ],
      "metadata": {
        "id": "ljnv9BZrYJzB",
        "colab": {
          "base_uri": "https://localhost:8080/"
        },
        "outputId": "7f94c8f6-09f2-489c-94cf-7b38cc92fe13"
      },
      "execution_count": 2,
      "outputs": [
        {
          "output_type": "stream",
          "name": "stdout",
          "text": [
            "The runner-up score is  40\n"
          ]
        }
      ]
    },
    {
      "cell_type": "code",
      "source": [
        "#A dictionary is given D={'John':[25,32,43],'peter':[87,55,96],'Ram':[58,55,43],'Meena':[63,79,85]}.get a name from dictionary if the name in the dictionary change the values corresponding to that user to [88,77,99] and print the dictionary.else print 'name not found'.\n",
        "\n",
        "D={'John':[25,32,43],'peter':[87,55,6],'Ram':[58,55,43],'Meena':[63,79,8]}\n",
        "Name=input(\"Enter the name\")\n",
        "if Name in D:\n",
        "  D[Name]=[88,77,99]\n",
        "  print(\"The updated dictionary is\",D)\n",
        "else:\n",
        "  print(\"Name not found\")"
      ],
      "metadata": {
        "id": "pRBiYSdZcPCj",
        "colab": {
          "base_uri": "https://localhost:8080/"
        },
        "outputId": "4e8593f2-2367-4b86-a275-20082f216fef"
      },
      "execution_count": 4,
      "outputs": [
        {
          "output_type": "stream",
          "name": "stdout",
          "text": [
            "Enter the nameJohn\n",
            "The updated dictionary is {'John': [88, 77, 99], 'peter': [87, 55, 6], 'Ram': [58, 55, 43], 'Meena': [63, 79, 8]}\n"
          ]
        }
      ]
    },
    {
      "cell_type": "code",
      "source": [
        "#Ticket price calculator:\n",
        " #1.Ask the user to enter their age\n",
        " #2.Use control statements(if-elif-else)to calculate the ticket price based on the following conditions:\n",
        "  #a.if the age is below 5,the ticket price is free.\n",
        "  #b.if the age is between 5 and 12(inclusive),the ticket price is RS.10\n",
        "  #c.if the age is above 12,the ticket price is Rs.50\n",
        "  #d.if the age is above 60,the ticket price is free\n",
        "  #e.if the gender is female,the ticket price is 50% of the applicable rates.\n",
        " #3.Display the ticket price to the user\n",
        "\n",
        "age=int(input(\"Enter your age \"))\n",
        "if (age<5):\n",
        "  Ticket_price=0\n",
        "  print(\"Ticket price is free\")\n",
        "elif age<12:\n",
        "  Ticket_price=10\n",
        "  print(f\"Ticket price is \",Ticket_price)\n",
        "elif(age>12 and age<60 ):\n",
        "  Ticket_price=50\n",
        "  print(f\"Ticket price is 50\" ,Ticket_price)\n",
        "elif (age>=60):\n",
        "  Ticket_price=0\n",
        "  print(\"Ticket price is free\")\n",
        "gender=str(input(\"Enter your gender \"))\n",
        "if (gender==\"female\"):\n",
        "  Ticket_price= Ticket_price*0.5\n",
        "  print(\"Ticket price is 50% of the applicable rates, Ticket price is\",Ticket_price)"
      ],
      "metadata": {
        "id": "5yS5dq0USMTX",
        "colab": {
          "base_uri": "https://localhost:8080/"
        },
        "outputId": "ce867314-2db4-49d8-a5f8-d8aa89b1c0a2"
      },
      "execution_count": 15,
      "outputs": [
        {
          "output_type": "stream",
          "name": "stdout",
          "text": [
            "Enter your age 10\n",
            "Ticket price is  10\n",
            "Enter your gender female\n",
            "Ticket price is 50% of the applicable rates, Ticket price is 5.0\n"
          ]
        }
      ]
    }
  ]
}