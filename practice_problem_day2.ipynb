{
  "nbformat": 4,
  "nbformat_minor": 0,
  "metadata": {
    "colab": {
      "provenance": [],
      "authorship_tag": "ABX9TyNtdD0zHc62094NMAc7u4U6",
      "include_colab_link": true
    },
    "kernelspec": {
      "name": "python3",
      "display_name": "Python 3"
    },
    "language_info": {
      "name": "python"
    }
  },
  "cells": [
    {
      "cell_type": "markdown",
      "metadata": {
        "id": "view-in-github",
        "colab_type": "text"
      },
      "source": [
        "<a href=\"https://colab.research.google.com/github/Rincyniza/Rincyniza_python/blob/main/practice_problem_day2.ipynb\" target=\"_parent\"><img src=\"https://colab.research.google.com/assets/colab-badge.svg\" alt=\"Open In Colab\"/></a>"
      ]
    },
    {
      "cell_type": "markdown",
      "source": [],
      "metadata": {
        "id": "tAsDsa9bZPyP"
      }
    },
    {
      "cell_type": "markdown",
      "source": [
        "**practice problem day 2**"
      ],
      "metadata": {
        "id": "KoZlaqVxZQ0y"
      }
    },
    {
      "cell_type": "code",
      "execution_count": 1,
      "metadata": {
        "colab": {
          "base_uri": "https://localhost:8080/"
        },
        "id": "_v0QaktsiToQ",
        "outputId": "123ffa2a-d80f-45bd-c266-a634c5c71cd4"
      },
      "outputs": [
        {
          "output_type": "stream",
          "name": "stdout",
          "text": [
            "Sum of all elements 21\n"
          ]
        }
      ],
      "source": [
        "#(1)Write a program to find sum of all elements in a list of integers\n",
        "\n",
        "List1=[1,2,3,4,5,6]\n",
        "Sum=sum(List1)\n",
        "print(\"Sum of all elements\",Sum)"
      ]
    },
    {
      "cell_type": "code",
      "source": [
        "#(2)Input a sentence as a string\n",
        "#print its length\n",
        "#print the first half of string\n",
        "Str=\"Hello World\"\n",
        "length=len(Str)\n",
        "print(\"length of string\",length)\n",
        "print(\"First half of string\")\n",
        "print (Str[:length//2])\n",
        "\n",
        "\n",
        "\n",
        "\n"
      ],
      "metadata": {
        "colab": {
          "base_uri": "https://localhost:8080/"
        },
        "id": "xUQj7D47j0Yo",
        "outputId": "952a0332-61b8-4574-bffe-6771b0b28f3a"
      },
      "execution_count": 146,
      "outputs": [
        {
          "output_type": "stream",
          "name": "stdout",
          "text": [
            "length of string 11\n",
            "First half of string\n",
            "Hello\n"
          ]
        }
      ]
    },
    {
      "cell_type": "code",
      "source": [
        "#(3)Write a program to enter a tuple of integers as (78,45,32,19,82,77,40,39)\n",
        "#Change the third value in the tuple to 100\n",
        "tuple1=(78,45,32,19,82,77,40,39)\n",
        "#as tuple is immutable we have to convert the tuple into a list\n",
        "list2=list(tuple1)\n",
        "list2[2]=100\n",
        "#convert it back to a tuple\n",
        "tuple2=tuple(list2)\n",
        "print(\"updated tuple\\n\",tuple2)\n",
        "\n",
        "\n"
      ],
      "metadata": {
        "colab": {
          "base_uri": "https://localhost:8080/"
        },
        "id": "BdDWvmzTkH7N",
        "outputId": "82a2bf94-bb12-48bf-943d-c4e363a12f41"
      },
      "execution_count": 106,
      "outputs": [
        {
          "output_type": "stream",
          "name": "stdout",
          "text": [
            "updated tuple\n",
            " (78, 45, 100, 19, 82, 77, 40, 39)\n"
          ]
        }
      ]
    },
    {
      "cell_type": "code",
      "source": [
        "#(4)Consider a list listA=[19,32,10,55,31,32,94,29,10,65,77,40,40]\n",
        "\n",
        "listA=[19,32,10,55,31,32,94,29,10,65,77,40,40]\n",
        "\n",
        "#(a)Delete the first occurrence of 32\n",
        "\n",
        "listA.pop(1)\n",
        "listA"
      ],
      "metadata": {
        "colab": {
          "base_uri": "https://localhost:8080/"
        },
        "id": "vRmRoQLMksI7",
        "outputId": "52ff0a6e-a238-4d8f-b5a6-f993c98a80b4"
      },
      "execution_count": 129,
      "outputs": [
        {
          "output_type": "execute_result",
          "data": {
            "text/plain": [
              "[19, 10, 55, 31, 32, 94, 29, 10, 65, 77, 40, 40]"
            ]
          },
          "metadata": {},
          "execution_count": 129
        }
      ]
    },
    {
      "cell_type": "code",
      "source": [
        "\n",
        "#(b)delete all occurrences of 40\n",
        "\n",
        "value=40\n",
        "while value in listA:\n",
        "  listA.remove(value)\n",
        "\n",
        "print(listA)\n",
        "\n"
      ],
      "metadata": {
        "colab": {
          "base_uri": "https://localhost:8080/"
        },
        "id": "YveeM5_tlkmA",
        "outputId": "8c3ac4eb-44f3-47d2-ced0-9da18b2ee5b3"
      },
      "execution_count": 131,
      "outputs": [
        {
          "output_type": "stream",
          "name": "stdout",
          "text": [
            "[19, 10, 55, 31, 32, 94, 29, 10, 65, 77]\n"
          ]
        }
      ]
    },
    {
      "cell_type": "code",
      "source": [
        "#(c)Delete the value at index =5\n",
        "\n",
        "listA.pop(5)\n"
      ],
      "metadata": {
        "colab": {
          "base_uri": "https://localhost:8080/"
        },
        "id": "h_jw3ZRppe6A",
        "outputId": "1af9b9a2-3b21-4aa2-e4fb-529a4102cca3"
      },
      "execution_count": 21,
      "outputs": [
        {
          "output_type": "execute_result",
          "data": {
            "text/plain": [
              "94"
            ]
          },
          "metadata": {},
          "execution_count": 21
        }
      ]
    },
    {
      "cell_type": "code",
      "source": [
        "#(d)Modify the value at index=9 as 300\n",
        "\n",
        "listA[9]=300\n",
        "listA"
      ],
      "metadata": {
        "colab": {
          "base_uri": "https://localhost:8080/"
        },
        "id": "5BO-LHy7prgi",
        "outputId": "f815c6d4-7c13-4673-dff5-d2061c2f101b"
      },
      "execution_count": 147,
      "outputs": [
        {
          "output_type": "execute_result",
          "data": {
            "text/plain": [
              "[19, 10, 55, 31, 32, 94, 29, 10, 65, 300]"
            ]
          },
          "metadata": {},
          "execution_count": 147
        }
      ]
    },
    {
      "cell_type": "code",
      "source": [
        "#(e)Add 200 at index =2\n",
        "\n",
        "listA.insert(2,200)\n",
        "listA"
      ],
      "metadata": {
        "colab": {
          "base_uri": "https://localhost:8080/"
        },
        "id": "j7-G3Q4pp-xu",
        "outputId": "ffe1dd45-e6a3-4c00-bb39-07d62487a1b1"
      },
      "execution_count": 148,
      "outputs": [
        {
          "output_type": "execute_result",
          "data": {
            "text/plain": [
              "[19, 10, 200, 55, 31, 32, 94, 29, 10, 65, 300]"
            ]
          },
          "metadata": {},
          "execution_count": 148
        }
      ]
    },
    {
      "cell_type": "code",
      "source": [
        "#(f)Print the final list with its length,maximum value and sum of all elements\n",
        "\n",
        "print(\"final list\",listA)\n",
        "Length=len(listA)\n",
        "print(\"length\",Length)\n",
        "Maxvalue=max(listA)\n",
        "print(\"Maximum value\",Maxvalue)\n",
        "Sum=sum(listA)\n",
        "print(\"Sum of all elements\",Sum)"
      ],
      "metadata": {
        "colab": {
          "base_uri": "https://localhost:8080/"
        },
        "id": "eYaboFO1qOxn",
        "outputId": "b75cfe85-f5f1-47a1-cbe1-a158d8ae2083"
      },
      "execution_count": 149,
      "outputs": [
        {
          "output_type": "stream",
          "name": "stdout",
          "text": [
            "final list [19, 10, 200, 55, 31, 32, 94, 29, 10, 65, 300]\n",
            "length 11\n",
            "Maximum value 300\n",
            "Sum of all elements 845\n"
          ]
        }
      ]
    },
    {
      "cell_type": "code",
      "source": [
        "#(5)Consider a string \"The day has been long \"\n",
        "\n",
        "Str1=\"The day has been long\"\n",
        "#(a)Delete the value at index =4\n",
        "S=Str1[:4]+Str1[5:]\n",
        "print(\"new string\\n\",S)"
      ],
      "metadata": {
        "colab": {
          "base_uri": "https://localhost:8080/"
        },
        "id": "25nPuuyjrLLo",
        "outputId": "dc318f8f-c4fb-4430-b917-a15e98c5de67"
      },
      "execution_count": 158,
      "outputs": [
        {
          "output_type": "stream",
          "name": "stdout",
          "text": [
            "new string\n",
            " The ay has been long\n"
          ]
        }
      ]
    },
    {
      "cell_type": "code",
      "source": [
        "#(b)Print the string 4 times in a single line with space between each repetition\n",
        "#use numpy library to object repetition\n",
        "import numpy as np\n",
        "#numpy.repeat() repeats a given object in a python array\n",
        "Str2=np.repeat(Str1,4)\n",
        "#Str2 is an array with string elements\n",
        "result=' '.join(Str2)\n",
        "print(result)\n",
        "\n"
      ],
      "metadata": {
        "colab": {
          "base_uri": "https://localhost:8080/"
        },
        "id": "jpZiZ_2nspvK",
        "outputId": "b57cb0f5-7f6e-4c8f-9e5b-48b1cd6ae496"
      },
      "execution_count": 134,
      "outputs": [
        {
          "output_type": "stream",
          "name": "stdout",
          "text": [
            "The ay has been long The ay has been long The ay has been long The ay has been long\n"
          ]
        }
      ]
    },
    {
      "cell_type": "code",
      "source": [
        "#(c)Print the string 3 times in a new line each time\n",
        "Str2=np.repeat(Str1,3)\n",
        "result='\\n'.join(Str2)\n",
        "print(result)"
      ],
      "metadata": {
        "colab": {
          "base_uri": "https://localhost:8080/"
        },
        "id": "HONw6bHe2VGt",
        "outputId": "5ade69fe-5c4d-4970-eb1c-f2fe2d0c5ef9"
      },
      "execution_count": 135,
      "outputs": [
        {
          "output_type": "stream",
          "name": "stdout",
          "text": [
            "The ay has been long\n",
            "The ay has been long\n",
            "The ay has been long\n"
          ]
        }
      ]
    },
    {
      "cell_type": "code",
      "source": [
        "#(d)Modify the string at index 7 as 'A'\n",
        "\n",
        "index=7\n",
        "new_char='A'\n",
        "Strlist1=list(Str1)\n",
        "Strlist1[index]=new_char\n",
        "Str1=\"\".join(Strlist1)\n",
        "print(Str1)"
      ],
      "metadata": {
        "colab": {
          "base_uri": "https://localhost:8080/"
        },
        "id": "MAs1kxPD2ig4",
        "outputId": "feede230-be38-400b-9bf6-894b4a841e16"
      },
      "execution_count": 136,
      "outputs": [
        {
          "output_type": "stream",
          "name": "stdout",
          "text": [
            "The ay Aas been long\n"
          ]
        }
      ]
    },
    {
      "cell_type": "code",
      "source": [
        "#(e)Print the string from index 4 to 15\n",
        "\n",
        "Str1[4:16]"
      ],
      "metadata": {
        "colab": {
          "base_uri": "https://localhost:8080/",
          "height": 36
        },
        "id": "CGDBtxrt2_s-",
        "outputId": "4ff5ffa5-1fca-42a2-898f-e59385981034"
      },
      "execution_count": 137,
      "outputs": [
        {
          "output_type": "execute_result",
          "data": {
            "text/plain": [
              "'ay Aas been '"
            ],
            "application/vnd.google.colaboratory.intrinsic+json": {
              "type": "string"
            }
          },
          "metadata": {},
          "execution_count": 137
        }
      ]
    },
    {
      "cell_type": "code",
      "source": [
        "#(f)Print the final string with its length\n",
        "\n",
        "print(\"Final string\\n\",Str1)\n",
        "print(\"length of string\",len(Str1))"
      ],
      "metadata": {
        "colab": {
          "base_uri": "https://localhost:8080/"
        },
        "id": "95etQ6LS7DCo",
        "outputId": "6d2526cd-4ad4-4ffa-d1ba-bbd7431209c2"
      },
      "execution_count": 138,
      "outputs": [
        {
          "output_type": "stream",
          "name": "stdout",
          "text": [
            "Final string\n",
            " The ay Aas been long\n",
            "length of string 20\n"
          ]
        }
      ]
    }
  ]
}