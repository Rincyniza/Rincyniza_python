{
  "nbformat": 4,
  "nbformat_minor": 0,
  "metadata": {
    "colab": {
      "provenance": [],
      "authorship_tag": "ABX9TyOVtzOup1NK2bh5l5kpPZCR",
      "include_colab_link": true
    },
    "kernelspec": {
      "name": "python3",
      "display_name": "Python 3"
    },
    "language_info": {
      "name": "python"
    }
  },
  "cells": [
    {
      "cell_type": "markdown",
      "metadata": {
        "id": "view-in-github",
        "colab_type": "text"
      },
      "source": [
        "<a href=\"https://colab.research.google.com/github/Rincyniza/Rincyniza_python/blob/main/Practice_problem_day4.ipynb\" target=\"_parent\"><img src=\"https://colab.research.google.com/assets/colab-badge.svg\" alt=\"Open In Colab\"/></a>"
      ]
    },
    {
      "cell_type": "code",
      "execution_count": null,
      "metadata": {
        "id": "rGDx6xk_z0W3"
      },
      "outputs": [],
      "source": []
    },
    {
      "cell_type": "markdown",
      "source": [
        "practice problem day4\n"
      ],
      "metadata": {
        "id": "p8rvOMDlz-AI"
      }
    },
    {
      "cell_type": "code",
      "source": [
        "#1.Write an interactive python program to implement following \"Guess Game\"\n",
        "#a.Think of a number between 1 and 10 and store it in a variable called \"Secret number\"\n",
        "#b.Ask the user to enter a number between 1 and 10 and store it in a variable called \"guess\"\n",
        "#c.use control statement (if-else) to check if the guess is correct,higher,or lower than the secret number.\n",
        "#d.Display appropriate messages to the user based on their guess:\n",
        " #*if the guess is correct,display \"Congratulations!you guessed the number correctly!\"\n",
        " #*if the guess is higher than the secret number,display \"Too high! Try again\"\n",
        " #*if the guess is lower than the secret number ,display \"Too low! Try again\"\n",
        "#e.Allow the user to keep guessing until they guess the correct number.\n",
        "\n",
        "secret_number=5\n",
        "guess=0\n",
        "while True:\n",
        "  guess=int(input(\"Enter a number between 1 and 10 \"))\n",
        "  if guess== secret_number:\n",
        "    print(\"Congratulations! You guessed the number correctly\")\n",
        "    break\n",
        "  elif guess>secret_number:\n",
        "    print(\"Too high! Try again\")\n",
        "  elif guess<secret_number:\n",
        "    print(\"Too low! Try again\")"
      ],
      "metadata": {
        "id": "7RF8VKPl0DH5",
        "colab": {
          "base_uri": "https://localhost:8080/"
        },
        "outputId": "0e924b05-fbea-429b-9309-bdd6dc31bc49"
      },
      "execution_count": null,
      "outputs": [
        {
          "output_type": "stream",
          "name": "stdout",
          "text": [
            "Enter a number between 1 and 10 4\n",
            "Too low! Try again\n",
            "Enter a number between 1 and 10 6\n",
            "Too high! Try again\n",
            "Enter a number between 1 and 10 5\n",
            "Congratulations! You guessed the number correctly\n"
          ]
        }
      ]
    },
    {
      "cell_type": "code",
      "source": [
        "\n",
        "#2.Write a program to find and print the Factorial of this number.The Factorial of a positive integer N refers to the product of all number in the range from 1 to N.\n",
        "\n",
        "number=int(input(\"Enter a number \"))\n",
        "factorial=1\n",
        "if number<0:\n",
        "  print(\"Factorial does not exist for negative numbers\")\n",
        "elif number==0:\n",
        "  print(\"Factorial of 0 is 1\")\n",
        "else:\n",
        "  for p in range(1,number+1):\n",
        "    factorial=factorial*p\n",
        "  print(f\"Factorial of {number} is \",factorial)\n"
      ],
      "metadata": {
        "id": "GHWTfS3k-aEI",
        "colab": {
          "base_uri": "https://localhost:8080/"
        },
        "outputId": "d16775e3-5f83-4636-9abe-e2bb10967336"
      },
      "execution_count": null,
      "outputs": [
        {
          "output_type": "stream",
          "name": "stdout",
          "text": [
            "Enter a number 4\n",
            "Factorial of 4 is  24\n"
          ]
        }
      ]
    },
    {
      "cell_type": "code",
      "source": [
        "#3.Roy wants to change his profile picture on Facebook.\n",
        "#Now Facebook has some restriction over the dimension of picture that we can upload.\n",
        "#Minimum dimension of the picture can be L×L,where L is the length of the side of square.\n",
        "#Now Roy has N photos of various dimensions .\n",
        "#dimension of a photo is denoted as W×H where W-width of the photo and H-Height of the photo\n",
        "#when any photo is uploaded following events may occur\n",
        " #a.if any of the width or height is less than L,user is prompted to upload another one.print \"Upload another\" in this case\n",
        " #b.if width and height ,both are large enough and\n",
        " #*if the photo is already square then it is accepted.print \"Accepted\" in this case\n",
        " #*else user is prompted to crop it.print \"Crop it\"in this case. given L,N,W and H as input\n",
        "#write a program to print appropriate text as output.\n",
        "\n",
        "L=float(input(\"Enter the minimum dimension of the picture(length of side of square)\"))\n",
        "N=int(input(\"Enter the number of photos available \"))\n",
        "i = 1\n",
        "while i <= N:\n",
        "  print(f\"PHOTO {i}\")\n",
        "  W = float(input(\"Enter the width of the photo \"))\n",
        "  H= float(input(\"Enter the height of the photo \"))\n",
        "  if W < L or H < L:\n",
        "    print(f\"Photo {i} dimensions are too small,UPLOAD ANOTHER \")\n",
        "    i += 1\n",
        "  elif W >= L and H >= L:\n",
        "    if W == H:\n",
        "       print(f\"PHOTO {i} IS ACCEPTED\")\n",
        "       break\n",
        "    else:\n",
        "       print(\"Photo is not a square ,CROP IT\")\n",
        "       i +=1\n",
        "\n",
        "\n"
      ],
      "metadata": {
        "id": "kuF8aZQMA6NY",
        "colab": {
          "base_uri": "https://localhost:8080/"
        },
        "outputId": "110a8d1c-d100-4e22-d822-8b0161dcdea2"
      },
      "execution_count": null,
      "outputs": [
        {
          "output_type": "stream",
          "name": "stdout",
          "text": [
            "Enter the minimum dimension of the picture(length of side of square)6.7\n",
            "Enter the number of photos available 4\n",
            "PHOTO 1\n",
            "Enter the width of the photo 3\n",
            "Enter the height of the photo 4\n",
            "Photo 1 dimensions are too small,UPLOAD ANOTHER \n",
            "PHOTO 2\n",
            "Enter the width of the photo 6.7\n",
            "Enter the height of the photo 8\n",
            "Photo is not a square ,CROP IT\n",
            "PHOTO 3\n",
            "Enter the width of the photo 6.7\n",
            "Enter the height of the photo 6.7\n",
            "PHOTO 3 IS ACCEPTED\n"
          ]
        }
      ]
    }
  ]
}